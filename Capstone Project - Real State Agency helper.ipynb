{
    "cells": [
        {
            "cell_type": "markdown",
            "metadata": {
                "collapsed": true
            },
            "source": "Real State Agent Helper\n========================"
        },
        {
            "cell_type": "markdown",
            "metadata": {},
            "source": "# 1. Introduction. Business Problem"
        },
        {
            "cell_type": "markdown",
            "metadata": {},
            "source": "## *Problem description and Bussiness understanding*"
        },
        {
            "cell_type": "markdown",
            "metadata": {},
            "source": "A real State Agent generally has to be able to provide all the possible information about the characteristics of a accommodation, like the area, number of rooms, if there is a garden or not?, is there a balcony? a garden? etc etc. They possessed this kind of information easily.\n\nHowever, agents sometimes have to face specific client demands about the characteristics of the different locations. This information is not so easy to access and summarize in order to satisfy the demands and provide useful information for the clients.\n\nExamples of different real state clients demands concerning locations are:\n\n* How many primary, high schols are there for my kids? Are there parks around?\n* Are there many bars and restaurants around in order to enjoy the night life?\n* How about cultural locations. I love to go to the teather and cinemas. Are There many options around?\n\n**The general question to ask is: How can we provide useful information about locations regarding a specific real state client demand. In other words, Is the future accommodation suitable for a client specific needs?**\n\nWe can identify different kind of needs. We start to define three kind of needs or sc\u00e9narios:\n\n* Family environments: is the location suitable for kids and families?. Are there any parks, schools, is it safe?\n* Nightlife environments: is the location suibale for a person that enjoys go out frequently. How many bars, restaurants, discos are there\n* Cultural environents: is the location suitable to enjoy cultural activities. How many museums, cinemas, theaters are there?\n\nThis solution also compares how any particular location is similar to another concerning these sc\u00e9narios "
        },
        {
            "cell_type": "markdown",
            "metadata": {},
            "source": "## *Project environment. Analytic approach*"
        },
        {
            "cell_type": "markdown",
            "metadata": {},
            "source": "**Where to implement this solution**\n\nThis solution is suitable for any kind of city that possess many kind of different locations in a defined area. For this project the city of Paris will be explored. \n\n* Why Paris? It is one of the cities in which each location has its particularity and provides different kind of needs\n\n#### Analytic Approach:\n\nFor this project, a clustering machine learning solution will be needed in order to group the different neighborhoods for the 3 defined scenarios\n\nIn the next section we are going to explain the different requirement for the data and how to collect it, in order to provide the answer to our problem"
        },
        {
            "cell_type": "markdown",
            "metadata": {},
            "source": "# 2. Data requirements, sources and collection"
        },
        {
            "cell_type": "markdown",
            "metadata": {},
            "source": "## *Data requirements*"
        },
        {
            "cell_type": "markdown",
            "metadata": {},
            "source": "In order to solve the problem we have to collect, combine and analyze two kind of informations/datasets:\n\n* *Demographic information:* for Paris, or any other city, we have to determine and investigate how it is divided. Is it divided only by neighborhoods? or any zones?. After some web investigation we can say that the city of Paris is divided by (arrondissements) wich are the districts and \"quartiers\" which we can translate by neighborhoods. \n\n\n* *Location venues:* we need to get a dataset that provides all the different kinds of venues for a particular location. For this project we will use the foursquare location data that we use in this capstone module"
        },
        {
            "cell_type": "markdown",
            "metadata": {},
            "source": "## *Data sources and collection*"
        },
        {
            "cell_type": "markdown",
            "metadata": {},
            "source": "* For the demggraphic information we can use two sources or methods:\n\n    - Webscraping of websites like Wikipedia: There are many wikepedia sites that provides tables of the different district of Paris and its name like https://fr.wikipedia.org/wiki/Liste_des_quartiers_administratifs_de_Paris, or\n    \n    - A public dataset of the Paris cityhall website https://opendata.paris.fr/explore/dataset/quartier_paris/table/. that contains all the \"quartier administratifs\" (official neighborhoods) of the city. This public data source offers the opportunity to obtain the dataset in different formats (csv, json, excel, etc). We are going to get the csv file. This file we will provide the district number, neighboorhood name and coordinates (lat and long). **This is the method that I will use since it provides all the necessary information**\n    \n    \n* For the venues:\n    - As we said we are going to use the Foursquare dataset. We are going to use the API and we are going to use the explore url request: \n        \n    https://api.foursquare.com/v2/venues/explore?client_id=CLIENT_ID&client_secret=CLIENT_SECRET&ll=LATITUDE,LONGITUDE&v=VERSION&limit=LIMIT\n    \n    \n* The latitude and longtide information is getted in the demographic dataset\n"
        },
        {
            "cell_type": "code",
            "execution_count": null,
            "metadata": {},
            "outputs": [],
            "source": ""
        }
    ],
    "metadata": {
        "kernelspec": {
            "display_name": "Python 3.7",
            "language": "python",
            "name": "python3"
        },
        "language_info": {
            "codemirror_mode": {
                "name": "ipython",
                "version": 3
            },
            "file_extension": ".py",
            "mimetype": "text/x-python",
            "name": "python",
            "nbconvert_exporter": "python",
            "pygments_lexer": "ipython3",
            "version": "3.7.10"
        }
    },
    "nbformat": 4,
    "nbformat_minor": 1
}